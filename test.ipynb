{
 "cells": [
  {
   "cell_type": "code",
   "execution_count": null,
   "metadata": {},
   "outputs": [],
   "source": []
  },
  {
   "cell_type": "code",
   "execution_count": 1,
   "metadata": {},
   "outputs": [],
   "source": [
    "import torch\n",
    "import torch.nn as nn\n",
    "import numpy as np\n",
    "import matplotlib.pyplot as plt\n",
    "import pandas as pd\n",
    "import torch.optim as optim\n",
    "import torchvision\n",
    "\n",
    "device = torch.device('mps:0' if torch.backends.mps.is_available() else 'cpu')\n",
    "mps = torch.backends.mps.is_available()"
   ]
  },
  {
   "cell_type": "code",
   "execution_count": 2,
   "metadata": {},
   "outputs": [],
   "source": [
    "IMAGE_SIZE = 28 * 28\n",
    "BATCH_SIZE = 128\n",
    "EPOCHS = 300000\n",
    "LEARNING_RATE = 0.1\n",
    "NOISE_DIM = 10"
   ]
  },
  {
   "cell_type": "code",
   "execution_count": 3,
   "metadata": {},
   "outputs": [],
   "source": [
    "MNIST = torchvision.datasets.MNIST('.', train=True, download=True)\n",
    "X_train = MNIST.data.reshape(-1, IMAGE_SIZE) / 255\n",
    "y_train = MNIST.targets\n",
    "if mps:\n",
    "  X_train = X_train.to(device)\n",
    "  y_train = y_train.to(device)"
   ]
  },
  {
   "cell_type": "code",
   "execution_count": 4,
   "metadata": {},
   "outputs": [],
   "source": [
    "activation = nn.LeakyReLU(0.2, inplace=True)\n",
    "class Generator(nn.Module):\n",
    "  def __init__(self, input_size: int, output_size: int, hidden_size: list, weights_data):\n",
    "    super().__init__()\n",
    "    self.input_size = input_size\n",
    "    self.model = nn.Sequential(\n",
    "      nn.Linear(input_size, hidden_size[0]),\n",
    "      activation,\n",
    "      *[nn.Linear(hidden_size[i//2], hidden_size[i//2+1]) if i%2==0 else activation for i in range(0, len(hidden_size)*2-2)],\n",
    "      nn.Linear(hidden_size[-1], output_size),\n",
    "      nn.Sigmoid() # from 0 to 1\n",
    "    )\n",
    "    if weights_data:\n",
    "      for i, w in enumerate(weights_data):\n",
    "        self.model[i].weight.data = w\n",
    "      print(\"weights loaded\")\n",
    "    else:\n",
    "      self.init_weights = lambda m: torch.nn.init.normal_(m.weight, mean=0, std=0.1) if type(m) == nn.Linear else None\n",
    "      self.model.apply(self.init_weights)\n",
    "    \n",
    "  def forward(self, x):\n",
    "    return self.model(x.view(-1, self.input_size))\n",
    "  \n",
    "class Discriminator(nn.Module):\n",
    "  def __init__(self, input_size: int, output_size: int, hidden_size: list, weights_data):\n",
    "    super().__init__()\n",
    "    self.input_size = input_size\n",
    "    self.ll = nn.Sequential(\n",
    "      nn.Linear(input_size, hidden_size[0]),\n",
    "      activation,\n",
    "      *[nn.Linear(hidden_size[i//2], hidden_size[i//2+1]) if i%2==0 else activation for i in range(0, len(hidden_size)*2-2)],\n",
    "      nn.Linear(hidden_size[-1], output_size),\n",
    "      nn.Sigmoid() # from 0 to 1\n",
    "    )\n",
    "    if weights_data:\n",
    "      for i, w in enumerate(weights_data):\n",
    "        self.ll[i].weight.data = w\n",
    "    else:\n",
    "      self.init_weights = lambda m: torch.nn.init.normal_(m.weight, mean=0, std=0.1) if type(m) == nn.Linear else None\n",
    "      self.ll.apply(self.init_weights)\n",
    "  def forward(self, x):\n",
    "    return self.ll(x.view(-1, self.input_size))"
   ]
  },
  {
   "cell_type": "code",
   "execution_count": 5,
   "metadata": {},
   "outputs": [],
   "source": [
    "def generator_loss(fake_output, discriminator):\n",
    "  return -torch.mean(torch.log(1 - discriminator(fake_output)))\n",
    "def discriminator_loss(real_output, fake_output, discriminator):\n",
    "  return torch.mean(torch.log(discriminator(real_output)) + torch.log(1 - discriminator(fake_output)))"
   ]
  },
  {
   "cell_type": "code",
   "execution_count": 6,
   "metadata": {},
   "outputs": [],
   "source": [
    "generator_loss = nn.BCELoss()\n",
    "discriminator_loss = nn.BCELoss()"
   ]
  },
  {
   "cell_type": "code",
   "execution_count": 13,
   "metadata": {},
   "outputs": [
    {
     "data": {
      "text/plain": [
       "<All keys matched successfully>"
      ]
     },
     "execution_count": 13,
     "metadata": {},
     "output_type": "execute_result"
    }
   ],
   "source": [
    "generator = Generator(NOISE_DIM, IMAGE_SIZE, [128, 256, 256, 512, 1024], None).to(device)\n",
    "discriminator =  Discriminator(IMAGE_SIZE, 1, [512, 256], None).to(device)\n",
    "generator.load_state_dict(torch.load('model/generator.pth'))\n",
    "discriminator.load_state_dict(torch.load('model/discriminator.pth'))"
   ]
  },
  {
   "cell_type": "code",
   "execution_count": 14,
   "metadata": {},
   "outputs": [
    {
     "data": {
      "text/plain": [
       "tensor(0.0106, device='mps:0', grad_fn=<BinaryCrossEntropyBackward0>)"
      ]
     },
     "execution_count": 14,
     "metadata": {},
     "output_type": "execute_result"
    }
   ],
   "source": [
    "z = torch.randn(BATCH_SIZE, NOISE_DIM).to(device)\n",
    "fake_output = generator(z)\n",
    "loss = discriminator_loss(discriminator(fake_output), torch.zeros(BATCH_SIZE, 1).to(device))\n",
    "loss"
   ]
  },
  {
   "cell_type": "code",
   "execution_count": null,
   "metadata": {},
   "outputs": [],
   "source": []
  }
 ],
 "metadata": {
  "kernelspec": {
   "display_name": "Python 3",
   "language": "python",
   "name": "python3"
  },
  "language_info": {
   "codemirror_mode": {
    "name": "ipython",
    "version": 3
   },
   "file_extension": ".py",
   "mimetype": "text/x-python",
   "name": "python",
   "nbconvert_exporter": "python",
   "pygments_lexer": "ipython3",
   "version": "3.10.13"
  }
 },
 "nbformat": 4,
 "nbformat_minor": 2
}
